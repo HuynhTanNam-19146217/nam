{
  "nbformat": 4,
  "nbformat_minor": 0,
  "metadata": {
    "colab": {
      "name": "Money.ipynb",
      "provenance": [],
      "collapsed_sections": [],
      "mount_file_id": "1VxJ6pMbJrVfoePHyaOPFS-vhLR18Un6b",
      "authorship_tag": "ABX9TyMu9ZTEBBs7WTAX59QvxHUC",
      "include_colab_link": true
    },
    "kernelspec": {
      "name": "python3",
      "display_name": "Python 3"
    },
    "language_info": {
      "name": "python"
    }
  },
  "cells": [
    {
      "cell_type": "markdown",
      "metadata": {
        "id": "view-in-github",
        "colab_type": "text"
      },
      "source": [
        "<a href=\"https://colab.research.google.com/github/HuynhTanNam-19146217/nam/blob/nam1/Money.ipynb\" target=\"_parent\"><img src=\"https://colab.research.google.com/assets/colab-badge.svg\" alt=\"Open In Colab\"/></a>"
      ]
    },
    {
      "cell_type": "code",
      "execution_count": 1,
      "metadata": {
        "id": "C44smNNC0yQZ"
      },
      "outputs": [],
      "source": [
        "from tensorflow.keras.preprocessing.image import ImageDataGenerator\n",
        "from tensorflow.keras.preprocessing import image\n",
        "from tensorflow.keras.optimizers import SGD, RMSprop\n",
        "from tensorflow.keras.utils import to_categorical\n",
        "import matplotlib.pyplot as plt\n",
        "from tensorflow.keras.models import load_model\n",
        "import tensorflow as  tf\n",
        "import numpy as np\n",
        "import cv2\n",
        "import os\n",
        "from keras.utils import np_utils\n",
        "from tensorflow.keras.callbacks import EarlyStopping, ModelCheckpoint, ReduceLROnPlateau\n",
        "from keras.models import Sequential\n",
        "from keras.layers import Dense,Flatten, Dropout\n",
        "from tensorflow.keras.utils import load_img\n",
        "from tensorflow.keras.utils import img_to_array\n",
        "from keras.layers import Conv2D, MaxPooling2D"
      ]
    },
    {
      "cell_type": "code",
      "source": [
        "train = ImageDataGenerator(rescale = 1./255,\n",
        "                                   shear_range = 0.2,\n",
        "                                   zoom_range = 0.2,\n",
        "                                   horizontal_flip = True)\n",
        "validation = ImageDataGenerator(rescale = 1./255)"
      ],
      "metadata": {
        "id": "uqzymPV80_dE"
      },
      "execution_count": 2,
      "outputs": []
    },
    {
      "cell_type": "code",
      "source": [
        "train_set=train.flow_from_directory('/content/drive/MyDrive/money/Train',target_size = (64,64),batch_size = 12,class_mode = 'categorical')\n",
        "test_set=validation.flow_from_directory('/content/drive/MyDrive/money/Validation',target_size = (64,64),batch_size = 12,class_mode = 'categorical')"
      ],
      "metadata": {
        "colab": {
          "base_uri": "https://localhost:8080/"
        },
        "id": "43WWS8Mf1ECE",
        "outputId": "73399e89-9ff7-492c-fe43-6af277469ee2"
      },
      "execution_count": null,
      "outputs": [
        {
          "output_type": "stream",
          "name": "stdout",
          "text": [
            "Found 110 images belonging to 11 classes.\n",
            "Found 55 images belonging to 11 classes.\n"
          ]
        }
      ]
    },
    {
      "cell_type": "code",
      "source": [
        "train_set.class_indices"
      ],
      "metadata": {
        "colab": {
          "base_uri": "https://localhost:8080/"
        },
        "id": "pizNy9Tv3rK1",
        "outputId": "03efc470-aa50-4bf9-af7d-e20d46f72bd4"
      },
      "execution_count": null,
      "outputs": [
        {
          "output_type": "execute_result",
          "data": {
            "text/plain": [
              "{'1000': 0,\n",
              " '10000': 1,\n",
              " '100000': 2,\n",
              " '200': 3,\n",
              " '2000': 4,\n",
              " '20000': 5,\n",
              " '200000': 6,\n",
              " '500': 7,\n",
              " '5000': 8,\n",
              " '50000': 9,\n",
              " '500000': 10}"
            ]
          },
          "metadata": {},
          "execution_count": 11
        }
      ]
    },
    {
      "cell_type": "code",
      "source": [
        "model = tf.keras.models.Sequential(\n",
        "    [ tf.keras.layers.Conv2D(32,(3,3),activation = 'relu',kernel_initializer='he_uniform',padding='same',input_shape =(64,64,3)),\n",
        "      tf.keras.layers.Conv2D(32,(3,3),activation = 'relu',kernel_initializer='he_uniform',padding='same'),\n",
        "      tf.keras.layers.MaxPool2D(2,2),\n",
        "\n",
        "      tf.keras.layers.Conv2D(32,(3,3),activation = 'relu',kernel_initializer='he_uniform',padding='same'),\n",
        "      tf.keras.layers.Conv2D(32,(3,3),activation = 'relu',kernel_initializer='he_uniform',padding='same'),\n",
        "      tf.keras.layers.MaxPool2D(2,2),\n",
        "\n",
        "      tf.keras.layers.Conv2D(64,(3,3),activation = 'relu',kernel_initializer='he_uniform',padding='same'),\n",
        "      tf.keras.layers.Conv2D(64,(3,3),activation = 'relu',kernel_initializer='he_uniform',padding='same'),\n",
        "      tf.keras.layers.MaxPool2D(2,2),\n",
        "\n",
        "      tf.keras.layers.Conv2D(128,(3,3),activation = 'relu',kernel_initializer='he_uniform',padding='same'),\n",
        "      tf.keras.layers.Conv2D(128,(3,3),activation = 'relu',kernel_initializer='he_uniform',padding='same'),\n",
        "      tf.keras.layers.MaxPool2D(2,2),\n",
        "     \n",
        "      tf.keras.layers.Flatten(),\n",
        "      tf.keras.layers.Dense(256,activation = 'relu',kernel_initializer='he_uniform'),\n",
        "      tf.keras.layers.Dense(11,activation='softmax')])\n",
        "model.summary()"
      ],
      "metadata": {
        "colab": {
          "base_uri": "https://localhost:8080/"
        },
        "id": "4e1YqUJd2Hfo",
        "outputId": "3a06514a-baf1-4986-a920-add6bb8eef27"
      },
      "execution_count": null,
      "outputs": [
        {
          "output_type": "stream",
          "name": "stdout",
          "text": [
            "Model: \"sequential_1\"\n",
            "_________________________________________________________________\n",
            " Layer (type)                Output Shape              Param #   \n",
            "=================================================================\n",
            " conv2d_8 (Conv2D)           (None, 64, 64, 32)        896       \n",
            "                                                                 \n",
            " conv2d_9 (Conv2D)           (None, 64, 64, 32)        9248      \n",
            "                                                                 \n",
            " max_pooling2d_4 (MaxPooling  (None, 32, 32, 32)       0         \n",
            " 2D)                                                             \n",
            "                                                                 \n",
            " conv2d_10 (Conv2D)          (None, 32, 32, 32)        9248      \n",
            "                                                                 \n",
            " conv2d_11 (Conv2D)          (None, 32, 32, 32)        9248      \n",
            "                                                                 \n",
            " max_pooling2d_5 (MaxPooling  (None, 16, 16, 32)       0         \n",
            " 2D)                                                             \n",
            "                                                                 \n",
            " conv2d_12 (Conv2D)          (None, 16, 16, 64)        18496     \n",
            "                                                                 \n",
            " conv2d_13 (Conv2D)          (None, 16, 16, 64)        36928     \n",
            "                                                                 \n",
            " max_pooling2d_6 (MaxPooling  (None, 8, 8, 64)         0         \n",
            " 2D)                                                             \n",
            "                                                                 \n",
            " conv2d_14 (Conv2D)          (None, 8, 8, 128)         73856     \n",
            "                                                                 \n",
            " conv2d_15 (Conv2D)          (None, 8, 8, 128)         147584    \n",
            "                                                                 \n",
            " max_pooling2d_7 (MaxPooling  (None, 4, 4, 128)        0         \n",
            " 2D)                                                             \n",
            "                                                                 \n",
            " flatten_1 (Flatten)         (None, 2048)              0         \n",
            "                                                                 \n",
            " dense_2 (Dense)             (None, 256)               524544    \n",
            "                                                                 \n",
            " dense_3 (Dense)             (None, 11)                2827      \n",
            "                                                                 \n",
            "=================================================================\n",
            "Total params: 832,875\n",
            "Trainable params: 832,875\n",
            "Non-trainable params: 0\n",
            "_________________________________________________________________\n"
          ]
        }
      ]
    },
    {
      "cell_type": "code",
      "source": [
        "opt = SGD(lr=0.001, momentum=0.9)\n",
        "model.compile(optimizer=opt, loss='categorical_crossentropy', metrics = ['accuracy'])"
      ],
      "metadata": {
        "colab": {
          "base_uri": "https://localhost:8080/"
        },
        "id": "uG3IKWny2PBp",
        "outputId": "0ffd572f-4f48-4af9-e3dd-d98c95e48ba7"
      },
      "execution_count": null,
      "outputs": [
        {
          "output_type": "stream",
          "name": "stderr",
          "text": [
            "/usr/local/lib/python3.7/dist-packages/keras/optimizer_v2/gradient_descent.py:102: UserWarning: The `lr` argument is deprecated, use `learning_rate` instead.\n",
            "  super(SGD, self).__init__(name, **kwargs)\n"
          ]
        }
      ]
    },
    {
      "cell_type": "code",
      "source": [
        "history = model.fit(train_set,batch_size=32,epochs=20,verbose=1,validation_data=test_set)"
      ],
      "metadata": {
        "colab": {
          "base_uri": "https://localhost:8080/"
        },
        "id": "0Dn1MiJR2Sjh",
        "outputId": "37ab2d90-c4ce-4e97-8989-5a048136cfad"
      },
      "execution_count": null,
      "outputs": [
        {
          "output_type": "stream",
          "name": "stdout",
          "text": [
            "Epoch 1/20\n",
            "10/10 [==============================] - 3s 327ms/step - loss: 0.7874 - accuracy: 0.7727 - val_loss: 1.4444 - val_accuracy: 0.5818\n",
            "Epoch 2/20\n",
            "10/10 [==============================] - 3s 315ms/step - loss: 1.4787 - accuracy: 0.6182 - val_loss: 1.5787 - val_accuracy: 0.5455\n",
            "Epoch 3/20\n",
            "10/10 [==============================] - 3s 322ms/step - loss: 1.2217 - accuracy: 0.6636 - val_loss: 1.3852 - val_accuracy: 0.5455\n",
            "Epoch 4/20\n",
            "10/10 [==============================] - 3s 322ms/step - loss: 0.8879 - accuracy: 0.7273 - val_loss: 0.8400 - val_accuracy: 0.7273\n",
            "Epoch 5/20\n",
            "10/10 [==============================] - 3s 320ms/step - loss: 0.5542 - accuracy: 0.8182 - val_loss: 0.5748 - val_accuracy: 0.8727\n",
            "Epoch 6/20\n",
            "10/10 [==============================] - 3s 306ms/step - loss: 0.4717 - accuracy: 0.8545 - val_loss: 0.4423 - val_accuracy: 0.9091\n",
            "Epoch 7/20\n",
            "10/10 [==============================] - 3s 343ms/step - loss: 0.4527 - accuracy: 0.8455 - val_loss: 0.5457 - val_accuracy: 0.8182\n",
            "Epoch 8/20\n",
            "10/10 [==============================] - 3s 310ms/step - loss: 0.2781 - accuracy: 0.9364 - val_loss: 0.6302 - val_accuracy: 0.7636\n",
            "Epoch 9/20\n",
            "10/10 [==============================] - 3s 312ms/step - loss: 0.2029 - accuracy: 0.9273 - val_loss: 0.7220 - val_accuracy: 0.7818\n",
            "Epoch 10/20\n",
            "10/10 [==============================] - 3s 316ms/step - loss: 0.5051 - accuracy: 0.8273 - val_loss: 0.7406 - val_accuracy: 0.7818\n",
            "Epoch 11/20\n",
            "10/10 [==============================] - 3s 327ms/step - loss: 0.5089 - accuracy: 0.8455 - val_loss: 0.7939 - val_accuracy: 0.7273\n",
            "Epoch 12/20\n",
            "10/10 [==============================] - 3s 319ms/step - loss: 0.4613 - accuracy: 0.8545 - val_loss: 0.5503 - val_accuracy: 0.8364\n",
            "Epoch 13/20\n",
            "10/10 [==============================] - 3s 325ms/step - loss: 0.2228 - accuracy: 0.9455 - val_loss: 0.4781 - val_accuracy: 0.8545\n",
            "Epoch 14/20\n",
            "10/10 [==============================] - 3s 319ms/step - loss: 0.1697 - accuracy: 0.9455 - val_loss: 0.4388 - val_accuracy: 0.8727\n",
            "Epoch 15/20\n",
            "10/10 [==============================] - 3s 324ms/step - loss: 0.1128 - accuracy: 0.9545 - val_loss: 0.3683 - val_accuracy: 0.8909\n",
            "Epoch 16/20\n",
            "10/10 [==============================] - 3s 322ms/step - loss: 0.0796 - accuracy: 0.9727 - val_loss: 0.4021 - val_accuracy: 0.8909\n",
            "Epoch 17/20\n",
            "10/10 [==============================] - 3s 324ms/step - loss: 0.0680 - accuracy: 0.9818 - val_loss: 0.4689 - val_accuracy: 0.9091\n",
            "Epoch 18/20\n",
            "10/10 [==============================] - 4s 342ms/step - loss: 0.0443 - accuracy: 0.9909 - val_loss: 0.6551 - val_accuracy: 0.8545\n",
            "Epoch 19/20\n",
            "10/10 [==============================] - 3s 332ms/step - loss: 0.0766 - accuracy: 0.9818 - val_loss: 0.6323 - val_accuracy: 0.8364\n",
            "Epoch 20/20\n",
            "10/10 [==============================] - 3s 342ms/step - loss: 0.0370 - accuracy: 0.9909 - val_loss: 0.4119 - val_accuracy: 0.8727\n"
          ]
        }
      ]
    },
    {
      "cell_type": "code",
      "source": [
        "plt.plot(history.history['accuracy'])\n",
        "plt.plot(history.history['val_accuracy'])\n",
        "plt.title('Model Accuracy')\n",
        "plt.ylabel('accuracy')\n",
        "plt.xlabel('epoch')\n",
        "plt.legend(['Train','validation'],loc='upper left')\n",
        "plt.show()"
      ],
      "metadata": {
        "colab": {
          "base_uri": "https://localhost:8080/",
          "height": 295
        },
        "id": "u90AH6nF3BS5",
        "outputId": "dc041574-6ff0-4eb8-d0d7-28ad258a3a19"
      },
      "execution_count": null,
      "outputs": [
        {
          "output_type": "display_data",
          "data": {
            "text/plain": [
              "<Figure size 432x288 with 1 Axes>"
            ],
            "image/png": "[encoded data removed]"
          },
          "metadata": {
            "needs_background": "light"
          }
        }
      ]
    },
    {
      "cell_type": "code",
      "source": [
        "score=model.evaluate(test_set,verbose=1)\n",
        "print('Sai số: ',score[0])\n",
        "print('Độ chính xác: ',score[1])"
      ],
      "metadata": {
        "colab": {
          "base_uri": "https://localhost:8080/"
        },
        "id": "VY764MvP33PX",
        "outputId": "cfc2847d-5680-4fa1-e606-f3e263549b82"
      },
      "execution_count": null,
      "outputs": [
        {
          "output_type": "stream",
          "name": "stdout",
          "text": [
            "5/5 [==============================] - 1s 114ms/step - loss: 0.4119 - accuracy: 0.8727\n",
            "Sai số:  0.4118559658527374\n",
            "Độ chính xác:  0.8727272748947144\n"
          ]
        }
      ]
    },
    {
      "cell_type": "code",
      "source": [
        "model.save('Money.h5')"
      ],
      "metadata": {
        "id": "tiBeJAdP4yz5"
      },
      "execution_count": null,
      "outputs": []
    },
    {
      "cell_type": "code",
      "source": [
        "from tensorflow.keras.models import load_model\n",
        "model1=load_model('Money.h5')"
      ],
      "metadata": {
        "id": "y6KJDvWC43V5"
      },
      "execution_count": null,
      "outputs": []
    },
    {
      "cell_type": "code",
      "source": [
        "test_img=load_img('/content/drive/MyDrive/money/Validation/10000/image (1).png',target_size=(64,64))\n",
        "plt.imshow(test_img)\n",
        "test_img= img_to_array(test_img)\n",
        "test_img=test_img/255\n",
        "test_img=np.expand_dims(test_img,axis=0)\n",
        "result=model.predict(test_img)\n",
        "if round(result[0][0])==1:\n",
        "  prediction=\"1000\"\n",
        "elif round(result[0][1])==1:\n",
        "  prediction=\"10000\"\n",
        "elif round(result[0][2])==1:\n",
        "  prediction=\"100000\"\n",
        "elif round(result[0][3])==1:\n",
        "  prediction=\"200\"  \n",
        "elif round(result[0][4])==1:\n",
        "  prediction=\"2000\" \n",
        "elif round(result[0][5])==1:\n",
        "  prediction=\"20000\"\n",
        "elif round(result[0][6])==1:\n",
        "  prediction=\"200000\"  \n",
        "elif round(result[0][7])==1:\n",
        "  prediction=\"500\" \n",
        "elif round(result[0][8])==1:\n",
        "  prediction=\"5000\"\n",
        "elif round(result[0][9])==1:\n",
        "  prediction=\"50000\" \n",
        "elif round(result[0][10])==1:\n",
        "  prediction=\"500000\"\n",
        "print('dự đoán:', prediction)"
      ],
      "metadata": {
        "colab": {
          "base_uri": "https://localhost:8080/",
          "height": 285
        },
        "id": "JYGGnHH547zo",
        "outputId": "d6249784-7a1e-4a96-a4a0-6b767750ad27"
      },
      "execution_count": null,
      "outputs": [
        {
          "output_type": "stream",
          "name": "stdout",
          "text": [
            "dự đoán: 10000\n"
          ]
        },
        {
          "output_type": "display_data",
          "data": {
            "text/plain": [
              "<Figure size 432x288 with 1 Axes>"
            ],
            "image/png": "[encoded data removed]"
          },
          "metadata": {
            "needs_background": "light"
          }
        }
      ]
    }
  ]
}